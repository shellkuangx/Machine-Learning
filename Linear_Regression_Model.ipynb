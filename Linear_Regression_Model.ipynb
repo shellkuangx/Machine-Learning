{
  "nbformat": 4,
  "nbformat_minor": 0,
  "metadata": {
    "colab": {
      "name": "Linear Regression Model.ipynb",
      "provenance": [],
      "collapsed_sections": [],
      "authorship_tag": "ABX9TyPfQCb/dM7FRVUS5kHGjMcw",
      "include_colab_link": true
    },
    "kernelspec": {
      "name": "python3",
      "display_name": "Python 3"
    }
  },
  "cells": [
    {
      "cell_type": "markdown",
      "metadata": {
        "id": "view-in-github",
        "colab_type": "text"
      },
      "source": [
        "<a href=\"https://colab.research.google.com/github/shellkuangx/Machine-Learning/blob/main/Linear_Regression_Model.ipynb\" target=\"_parent\"><img src=\"https://colab.research.google.com/assets/colab-badge.svg\" alt=\"Open In Colab\"/></a>"
      ]
    },
    {
      "cell_type": "code",
      "metadata": {
        "id": "jkxY8LyMn1FT",
        "colab": {
          "base_uri": "https://localhost:8080/"
        },
        "outputId": "ef252bd9-688f-452b-ba9a-4c3369ab0474"
      },
      "source": [
        "# %load ../standard_import.txt\n",
        "import pandas as pd\n",
        "import numpy as np\n",
        "import matplotlib.pyplot as plt\n",
        "from mpl_toolkits.mplot3d import axes3d\n",
        "import seaborn as sns\n",
        "\n",
        "from sklearn.preprocessing import scale\n",
        "import sklearn.linear_model as skl_lm\n",
        "from sklearn.metrics import mean_squared_error, r2_score\n",
        "import statsmodels.api as sm\n",
        "import statsmodels.formula.api as smf"
      ],
      "execution_count": null,
      "outputs": [
        {
          "output_type": "stream",
          "text": [
            "/usr/local/lib/python3.7/dist-packages/statsmodels/tools/_testing.py:19: FutureWarning: pandas.util.testing is deprecated. Use the functions in the public API at pandas.testing instead.\n",
            "  import pandas.util.testing as tm\n"
          ],
          "name": "stderr"
        }
      ]
    },
    {
      "cell_type": "code",
      "metadata": {
        "id": "Ht3JtpNnoNUj",
        "colab": {
          "base_uri": "https://localhost:8080/"
        },
        "outputId": "839e7a30-cb4f-4acd-927a-4bb77e6bdbad"
      },
      "source": [
        "plt.style.use(\"seaborn-white\")\n",
        "from google.colab import drive\n",
        "drive.mount('/content/drive')"
      ],
      "execution_count": null,
      "outputs": [
        {
          "output_type": "stream",
          "text": [
            "Mounted at /content/drive\n"
          ],
          "name": "stdout"
        }
      ]
    },
    {
      "cell_type": "code",
      "metadata": {
        "id": "j9K-NgjpoUbD",
        "colab": {
          "base_uri": "https://localhost:8080/"
        },
        "outputId": "ef635f66-0b54-4001-fb27-ebe5e5d2ff77"
      },
      "source": [
        "advertising = pd.read_csv(\"/content/drive/My Drive/Colab Notebooks/Data/Advertising.csv\",\n",
        "                          usecols=[1,2,3,4])\n",
        "advertising.info()"
      ],
      "execution_count": null,
      "outputs": [
        {
          "output_type": "stream",
          "text": [
            "<class 'pandas.core.frame.DataFrame'>\n",
            "RangeIndex: 200 entries, 0 to 199\n",
            "Data columns (total 4 columns):\n",
            " #   Column     Non-Null Count  Dtype  \n",
            "---  ------     --------------  -----  \n",
            " 0   TV         200 non-null    float64\n",
            " 1   Radio      200 non-null    float64\n",
            " 2   Newspaper  200 non-null    float64\n",
            " 3   Sales      200 non-null    float64\n",
            "dtypes: float64(4)\n",
            "memory usage: 6.4 KB\n"
          ],
          "name": "stdout"
        }
      ]
    },
    {
      "cell_type": "code",
      "metadata": {
        "id": "NSztOMyQpjoE",
        "colab": {
          "base_uri": "https://localhost:8080/",
          "height": 142
        },
        "outputId": "ea0fec18-a152-4d76-f4c7-6e643e9935ef"
      },
      "source": [
        "credit = pd.read_csv('/content/drive/My Drive/Colab Notebooks/Data/Credit.csv',\n",
        "                     usecols=list(range(1,12)))\n",
        "credit[\"Student2\"] = credit.Student.map({'No':0,\"Yes\":1})\n",
        "credit.head(3)\n"
      ],
      "execution_count": null,
      "outputs": [
        {
          "output_type": "execute_result",
          "data": {
            "text/html": [
              "<div>\n",
              "<style scoped>\n",
              "    .dataframe tbody tr th:only-of-type {\n",
              "        vertical-align: middle;\n",
              "    }\n",
              "\n",
              "    .dataframe tbody tr th {\n",
              "        vertical-align: top;\n",
              "    }\n",
              "\n",
              "    .dataframe thead th {\n",
              "        text-align: right;\n",
              "    }\n",
              "</style>\n",
              "<table border=\"1\" class=\"dataframe\">\n",
              "  <thead>\n",
              "    <tr style=\"text-align: right;\">\n",
              "      <th></th>\n",
              "      <th>Income</th>\n",
              "      <th>Limit</th>\n",
              "      <th>Rating</th>\n",
              "      <th>Cards</th>\n",
              "      <th>Age</th>\n",
              "      <th>Education</th>\n",
              "      <th>Gender</th>\n",
              "      <th>Student</th>\n",
              "      <th>Married</th>\n",
              "      <th>Ethnicity</th>\n",
              "      <th>Balance</th>\n",
              "      <th>Student2</th>\n",
              "    </tr>\n",
              "  </thead>\n",
              "  <tbody>\n",
              "    <tr>\n",
              "      <th>0</th>\n",
              "      <td>14.891</td>\n",
              "      <td>3606</td>\n",
              "      <td>283</td>\n",
              "      <td>2</td>\n",
              "      <td>34</td>\n",
              "      <td>11</td>\n",
              "      <td>Male</td>\n",
              "      <td>No</td>\n",
              "      <td>Yes</td>\n",
              "      <td>Caucasian</td>\n",
              "      <td>333</td>\n",
              "      <td>0</td>\n",
              "    </tr>\n",
              "    <tr>\n",
              "      <th>1</th>\n",
              "      <td>106.025</td>\n",
              "      <td>6645</td>\n",
              "      <td>483</td>\n",
              "      <td>3</td>\n",
              "      <td>82</td>\n",
              "      <td>15</td>\n",
              "      <td>Female</td>\n",
              "      <td>Yes</td>\n",
              "      <td>Yes</td>\n",
              "      <td>Asian</td>\n",
              "      <td>903</td>\n",
              "      <td>1</td>\n",
              "    </tr>\n",
              "    <tr>\n",
              "      <th>2</th>\n",
              "      <td>104.593</td>\n",
              "      <td>7075</td>\n",
              "      <td>514</td>\n",
              "      <td>4</td>\n",
              "      <td>71</td>\n",
              "      <td>11</td>\n",
              "      <td>Male</td>\n",
              "      <td>No</td>\n",
              "      <td>No</td>\n",
              "      <td>Asian</td>\n",
              "      <td>580</td>\n",
              "      <td>0</td>\n",
              "    </tr>\n",
              "  </tbody>\n",
              "</table>\n",
              "</div>"
            ],
            "text/plain": [
              "    Income  Limit  Rating  Cards  ...  Married  Ethnicity Balance Student2\n",
              "0   14.891   3606     283      2  ...      Yes  Caucasian     333        0\n",
              "1  106.025   6645     483      3  ...      Yes      Asian     903        1\n",
              "2  104.593   7075     514      4  ...       No      Asian     580        0\n",
              "\n",
              "[3 rows x 12 columns]"
            ]
          },
          "metadata": {
            "tags": []
          },
          "execution_count": 5
        }
      ]
    },
    {
      "cell_type": "code",
      "metadata": {
        "id": "IemmIso1qHlX",
        "colab": {
          "base_uri": "https://localhost:8080/"
        },
        "outputId": "0e54e232-2578-47f4-8182-2cecbc54b80c"
      },
      "source": [
        "auto = pd.read_csv(\"/content/drive/My Drive/Colab Notebooks/Data/Auto.csv\",na_values='?').dropna()\n",
        "auto.info()"
      ],
      "execution_count": null,
      "outputs": [
        {
          "output_type": "stream",
          "text": [
            "<class 'pandas.core.frame.DataFrame'>\n",
            "Int64Index: 392 entries, 0 to 396\n",
            "Data columns (total 9 columns):\n",
            " #   Column        Non-Null Count  Dtype  \n",
            "---  ------        --------------  -----  \n",
            " 0   mpg           392 non-null    float64\n",
            " 1   cylinders     392 non-null    int64  \n",
            " 2   displacement  392 non-null    float64\n",
            " 3   horsepower    392 non-null    float64\n",
            " 4   weight        392 non-null    int64  \n",
            " 5   acceleration  392 non-null    float64\n",
            " 6   year          392 non-null    int64  \n",
            " 7   origin        392 non-null    int64  \n",
            " 8   name          392 non-null    object \n",
            "dtypes: float64(4), int64(4), object(1)\n",
            "memory usage: 30.6+ KB\n"
          ],
          "name": "stdout"
        }
      ]
    },
    {
      "cell_type": "code",
      "metadata": {
        "id": "PPClFM2EqYLE",
        "colab": {
          "base_uri": "https://localhost:8080/",
          "height": 347
        },
        "outputId": "cecafa38-6914-449c-f157-c6dceacedd81"
      },
      "source": [
        "sns.regplot(advertising.TV,advertising.Sales,order=1,ci=None,scatter_kws={'color':'g','s':9})\n",
        "plt.xlim(-10,310)\n",
        "plt.ylim(ymin=0)"
      ],
      "execution_count": null,
      "outputs": [
        {
          "output_type": "stream",
          "text": [
            "/usr/local/lib/python3.7/dist-packages/seaborn/_decorators.py:43: FutureWarning: Pass the following variables as keyword args: x, y. From version 0.12, the only valid positional argument will be `data`, and passing other arguments without an explicit keyword will result in an error or misinterpretation.\n",
            "  FutureWarning\n"
          ],
          "name": "stderr"
        },
        {
          "output_type": "execute_result",
          "data": {
            "text/plain": [
              "(0.0, 28.27)"
            ]
          },
          "metadata": {
            "tags": []
          },
          "execution_count": 7
        },
        {
          "output_type": "display_data",
          "data": {
            "image/png": "[encoded data removed]",
            "text/plain": [
              "<Figure size 432x288 with 1 Axes>"
            ]
          },
          "metadata": {
            "tags": []
          }
        }
      ]
    },
    {
      "cell_type": "code",
      "metadata": {
        "id": "oRip_8fAqxHS",
        "colab": {
          "base_uri": "https://localhost:8080/"
        },
        "outputId": "fc62f235-3677-4fbf-e4d0-df4305f17e71"
      },
      "source": [
        "regr = skl_lm.LinearRegression()\n",
        "X = scale(advertising.TV,with_mean=True,with_std=True).reshape(-1,1)\n",
        "y= advertising.Sales\n",
        "\n",
        "regr.fit(X,y)\n",
        "print(regr.intercept_)\n",
        "print(regr.coef_)"
      ],
      "execution_count": null,
      "outputs": [
        {
          "output_type": "stream",
          "text": [
            "14.0225\n",
            "[4.07100612]\n"
          ],
          "name": "stdout"
        }
      ]
    },
    {
      "cell_type": "code",
      "metadata": {
        "id": "rxCn1qeiruk7",
        "colab": {
          "base_uri": "https://localhost:8080/"
        },
        "outputId": "96e5d070-e97d-43db-cb31-9130530c243f"
      },
      "source": [
        "# Create grid coordinates for plotting\n",
        "B0 = np.linspace(regr.intercept_-2,regr.intercept_+2,50)\n",
        "B1 = np.linspace(regr.coef_-0.02,regr.coef_+0.02,50)\n",
        "xx,yy = np.meshgrid(B0,B1,indexing=\"xy\")\n",
        "Z = np.zeros((B0.size,B1.size))\n",
        "# Calculate Z-values (RSS) based on grid of coefficients\n",
        "for (i,j),v in np.ndenumerate(Z):\n",
        "  Z[i,j] = ((y-(xx[i,j]+X.ravel()**yy[i,j]))**2).sum()/1000\n",
        "min_RSS = r'$\\beta_0$, $\\beta_1$ for minimized RSS'\n",
        "min_rss = np.sum((regr.intercept_+regr.coef_*X - y.values.reshape(-1,1))**2)/1000\n",
        "min_rss"
      ],
      "execution_count": null,
      "outputs": [
        {
          "output_type": "stream",
          "text": [
            "/usr/local/lib/python3.7/dist-packages/ipykernel_launcher.py:8: RuntimeWarning: invalid value encountered in power\n",
            "  \n"
          ],
          "name": "stderr"
        },
        {
          "output_type": "execute_result",
          "data": {
            "text/plain": [
              "2.1025305831313514"
            ]
          },
          "metadata": {
            "tags": []
          },
          "execution_count": 9
        }
      ]
    },
    {
      "cell_type": "code",
      "metadata": {
        "id": "AWbM0Kikt3O8",
        "colab": {
          "base_uri": "https://localhost:8080/",
          "height": 440
        },
        "outputId": "49699dec-2ebd-4896-d9d0-cd0f525fa9c5"
      },
      "source": [
        "fig = plt.figure(figsize=(15,6))\n",
        "fig.suptitle('RSS - Regression Coefficients', fontsize=20)\n",
        "ax1 = fig.add_subplot(121)\n",
        "ax2 = fig.add_subplot(122,projection='3d')\n",
        "\n",
        "CS = ax1.contour(xx,yy,Z,cmap=plt.cm.Set1,levels=[2.15, 2.2, 2.3, 2.5, 3])\n",
        "ax1.scatter(regr.intercept_,regr.coef_[0],c='r',label=min_RSS)\n",
        "ax1.clabel(CS,inline=True,fontsize=10,fmt=\"%1.1f\")\n",
        "\n",
        "# Right plot\n",
        "ax2.plot_surface(xx, yy, Z, rstride=3, cstride=3, alpha=0.3)\n",
        "ax2.contour(xx, yy, Z, zdir='z', offset=Z.min(), cmap=plt.cm.Set1,\n",
        "            alpha=0.4, levels=[2.15, 2.2, 2.3, 2.5, 3])\n",
        "ax2.scatter3D(regr.intercept_, regr.coef_[0], min_rss, c='r', label=min_RSS)\n",
        "ax2.set_zlabel('RSS')\n",
        "ax2.set_zlim(Z.min(),Z.max())\n",
        "ax2.set_ylim(0.02,0.07)\n",
        "\n",
        "for ax in fig.axes:\n",
        "    ax.set_xlabel(r'$\\beta_0$', fontsize=17)\n",
        "    ax.set_ylabel(r'$\\beta_1$', fontsize=17)\n",
        "    ax.set_yticks([0.03,0.04,0.05,0.06])\n",
        "    ax.legend()\n",
        "\n"
      ],
      "execution_count": null,
      "outputs": [
        {
          "output_type": "display_data",
          "data": {
            "image/png": "[encoded data removed]",
            "text/plain": [
              "<Figure size 1080x432 with 2 Axes>"
            ]
          },
          "metadata": {
            "tags": []
          }
        }
      ]
    },
    {
      "cell_type": "code",
      "metadata": {
        "id": "W65rcXpR9Rif",
        "colab": {
          "base_uri": "https://localhost:8080/"
        },
        "outputId": "956fe76c-b75e-4d1a-db57-ca3b93cbde35"
      },
      "source": [
        "est = smf.ols('Sales ~ TV',advertising).fit()\n",
        "est.summary().tables[1]\n",
        "((advertising.Sales -(est.params[0] + est.params[1]*advertising.TV))**2).sum()/1000"
      ],
      "execution_count": null,
      "outputs": [
        {
          "output_type": "execute_result",
          "data": {
            "text/plain": [
              "2.102530583131351"
            ]
          },
          "metadata": {
            "tags": []
          },
          "execution_count": 11
        }
      ]
    },
    {
      "cell_type": "code",
      "metadata": {
        "id": "Z9D58d_u-PK7",
        "colab": {
          "base_uri": "https://localhost:8080/"
        },
        "outputId": "ab39b47d-8a18-4ce1-b81e-1d235a558c91"
      },
      "source": [
        "regr = skl_lm.LinearRegression()\n",
        "X = advertising.TV.values.reshape(-1,1)\n",
        "y= advertising.Sales\n",
        "\n",
        "regr.fit(X,y)\n",
        "print(regr.intercept_)\n",
        "print(regr.coef_)\n"
      ],
      "execution_count": null,
      "outputs": [
        {
          "output_type": "stream",
          "text": [
            "7.032593549127695\n",
            "[0.04753664]\n"
          ],
          "name": "stdout"
        }
      ]
    },
    {
      "cell_type": "code",
      "metadata": {
        "id": "QJ43oa-K-mFg",
        "colab": {
          "base_uri": "https://localhost:8080/"
        },
        "outputId": "b3f708cd-fbef-4f51-e04a-3953e3d41caf"
      },
      "source": [
        "Sales_pred = regr.predict(X)\n",
        "r2_score(y,Sales_pred)"
      ],
      "execution_count": null,
      "outputs": [
        {
          "output_type": "execute_result",
          "data": {
            "text/plain": [
              "0.611875050850071"
            ]
          },
          "metadata": {
            "tags": []
          },
          "execution_count": 13
        }
      ]
    },
    {
      "cell_type": "code",
      "metadata": {
        "id": "w5pPLIwj-yyc",
        "colab": {
          "base_uri": "https://localhost:8080/",
          "height": 124
        },
        "outputId": "3416a6d3-7b22-4044-a015-0e4da3902b64"
      },
      "source": [
        "est = smf.ols('Sales ~ TV + Radio + Newspaper',advertising).fit()\n",
        "est.summary().tables[1]"
      ],
      "execution_count": null,
      "outputs": [
        {
          "output_type": "execute_result",
          "data": {
            "text/html": [
              "<table class=\"simpletable\">\n",
              "<tr>\n",
              "      <td></td>         <th>coef</th>     <th>std err</th>      <th>t</th>      <th>P>|t|</th>  <th>[0.025</th>    <th>0.975]</th>  \n",
              "</tr>\n",
              "<tr>\n",
              "  <th>Intercept</th> <td>    2.9389</td> <td>    0.312</td> <td>    9.422</td> <td> 0.000</td> <td>    2.324</td> <td>    3.554</td>\n",
              "</tr>\n",
              "<tr>\n",
              "  <th>TV</th>        <td>    0.0458</td> <td>    0.001</td> <td>   32.809</td> <td> 0.000</td> <td>    0.043</td> <td>    0.049</td>\n",
              "</tr>\n",
              "<tr>\n",
              "  <th>Radio</th>     <td>    0.1885</td> <td>    0.009</td> <td>   21.893</td> <td> 0.000</td> <td>    0.172</td> <td>    0.206</td>\n",
              "</tr>\n",
              "<tr>\n",
              "  <th>Newspaper</th> <td>   -0.0010</td> <td>    0.006</td> <td>   -0.177</td> <td> 0.860</td> <td>   -0.013</td> <td>    0.011</td>\n",
              "</tr>\n",
              "</table>"
            ],
            "text/plain": [
              "<class 'statsmodels.iolib.table.SimpleTable'>"
            ]
          },
          "metadata": {
            "tags": []
          },
          "execution_count": 14
        }
      ]
    },
    {
      "cell_type": "code",
      "metadata": {
        "id": "S_7QhYsd_Lk6",
        "colab": {
          "base_uri": "https://localhost:8080/",
          "height": 173
        },
        "outputId": "409ed103-f903-40da-f656-27ac66f876d5"
      },
      "source": [
        "advertising.corr()\n"
      ],
      "execution_count": null,
      "outputs": [
        {
          "output_type": "execute_result",
          "data": {
            "text/html": [
              "<div>\n",
              "<style scoped>\n",
              "    .dataframe tbody tr th:only-of-type {\n",
              "        vertical-align: middle;\n",
              "    }\n",
              "\n",
              "    .dataframe tbody tr th {\n",
              "        vertical-align: top;\n",
              "    }\n",
              "\n",
              "    .dataframe thead th {\n",
              "        text-align: right;\n",
              "    }\n",
              "</style>\n",
              "<table border=\"1\" class=\"dataframe\">\n",
              "  <thead>\n",
              "    <tr style=\"text-align: right;\">\n",
              "      <th></th>\n",
              "      <th>TV</th>\n",
              "      <th>Radio</th>\n",
              "      <th>Newspaper</th>\n",
              "      <th>Sales</th>\n",
              "    </tr>\n",
              "  </thead>\n",
              "  <tbody>\n",
              "    <tr>\n",
              "      <th>TV</th>\n",
              "      <td>1.000000</td>\n",
              "      <td>0.054809</td>\n",
              "      <td>0.056648</td>\n",
              "      <td>0.782224</td>\n",
              "    </tr>\n",
              "    <tr>\n",
              "      <th>Radio</th>\n",
              "      <td>0.054809</td>\n",
              "      <td>1.000000</td>\n",
              "      <td>0.354104</td>\n",
              "      <td>0.576223</td>\n",
              "    </tr>\n",
              "    <tr>\n",
              "      <th>Newspaper</th>\n",
              "      <td>0.056648</td>\n",
              "      <td>0.354104</td>\n",
              "      <td>1.000000</td>\n",
              "      <td>0.228299</td>\n",
              "    </tr>\n",
              "    <tr>\n",
              "      <th>Sales</th>\n",
              "      <td>0.782224</td>\n",
              "      <td>0.576223</td>\n",
              "      <td>0.228299</td>\n",
              "      <td>1.000000</td>\n",
              "    </tr>\n",
              "  </tbody>\n",
              "</table>\n",
              "</div>"
            ],
            "text/plain": [
              "                 TV     Radio  Newspaper     Sales\n",
              "TV         1.000000  0.054809   0.056648  0.782224\n",
              "Radio      0.054809  1.000000   0.354104  0.576223\n",
              "Newspaper  0.056648  0.354104   1.000000  0.228299\n",
              "Sales      0.782224  0.576223   0.228299  1.000000"
            ]
          },
          "metadata": {
            "tags": []
          },
          "execution_count": 15
        }
      ]
    },
    {
      "cell_type": "code",
      "metadata": {
        "id": "keiSYtIU_P8l",
        "colab": {
          "base_uri": "https://localhost:8080/"
        },
        "outputId": "33c45688-ce88-4170-e365-9fe4fdedc942"
      },
      "source": [
        "regr = skl_lm.LinearRegression()\n",
        "\n",
        "X = advertising[['Radio', 'TV']]\n",
        "y = advertising.Sales\n",
        "\n",
        "regr.fit(X,y)\n",
        "print(regr.intercept_)\n",
        "print(regr.coef_)"
      ],
      "execution_count": 21,
      "outputs": [
        {
          "output_type": "stream",
          "text": [
            "2.9210999124051398\n",
            "[0.18799423 0.04575482]\n"
          ],
          "name": "stdout"
        }
      ]
    },
    {
      "cell_type": "code",
      "metadata": {
        "id": "edb10EuaAU5z"
      },
      "source": [
        ""
      ],
      "execution_count": null,
      "outputs": []
    },
    {
      "cell_type": "code",
      "metadata": {
        "id": "KGxOjDDDAVxN"
      },
      "source": [
        ""
      ],
      "execution_count": null,
      "outputs": []
    },
    {
      "cell_type": "code",
      "metadata": {
        "id": "OtxufMIkAV65"
      },
      "source": [
        ""
      ],
      "execution_count": null,
      "outputs": []
    },
    {
      "cell_type": "code",
      "metadata": {
        "id": "WypndKHgAV1Q"
      },
      "source": [
        ""
      ],
      "execution_count": null,
      "outputs": []
    },
    {
      "cell_type": "code",
      "metadata": {
        "id": "OojnjKO9AVkg"
      },
      "source": [
        ""
      ],
      "execution_count": null,
      "outputs": []
    }
  ]
}